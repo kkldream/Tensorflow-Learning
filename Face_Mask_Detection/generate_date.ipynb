{
 "cells": [
  {
   "cell_type": "code",
   "execution_count": null,
   "metadata": {},
   "outputs": [],
   "source": [
    "import numpy as np\n",
    "import tensorflow as tf\n",
    "from tensorflow import keras\n",
    "from tensorflow.keras import layers, optimizers, losses, initializers\n",
    "from tensorflow.keras.utils import plot_model\n",
    "from IPython.display import Image\n",
    "import matplotlib.pyplot as plt\n",
    "from tensorflow.keras.models import load_model\n",
    "import pandas as pd\n",
    "import cv2\n",
    "import os\n",
    "from tensorflow.keras.preprocessing.image import ImageDataGenerator\n",
    "import glob\n",
    "# import utils\n",
    "import xmltodict"
   ]
  },
  {
   "cell_type": "code",
   "execution_count": null,
   "metadata": {},
   "outputs": [],
   "source": [
    "dataset_dir = \"dataset\"\n",
    "data_dirs = (\"original\", \"train\", \"valid\", \"test\")\n",
    "labels = (\"without_mask\", \"with_mask\", \"mask_weared_incorrect\")\n",
    "for data_dir in data_dirs:\n",
    "    _data_path = os.path.join(dataset_dir, data_dir)\n",
    "    for label in labels:\n",
    "        _path = os.path.join(_data_path, label)\n",
    "        if not os.path.isdir(_path):\n",
    "            os.makedirs(_path)"
   ]
  },
  {
   "cell_type": "code",
   "execution_count": null,
   "metadata": {},
   "outputs": [],
   "source": [
    "def fileToDict(path):\n",
    "    with open(path, \"r\") as file:\n",
    "        _dict = xmltodict.parse(file.read())\n",
    "    return _dict\n",
    "\n",
    "def cv2_imshow(image):\n",
    "    plt.imshow(cv2.cvtColor(image, cv2.COLOR_BGR2RGB))\n",
    "    plt.show()"
   ]
  },
  {
   "cell_type": "code",
   "execution_count": null,
   "metadata": {},
   "outputs": [],
   "source": [
    "total_num = 0\n",
    "dataset = {\n",
    "    \"image_path\": [],\n",
    "    \"shape\": [],\n",
    "    \"status\": [],\n",
    "    \"bboxs\": []\n",
    "}\n",
    "annotations_path = os.path.join(dataset_dir, \"annotations\")\n",
    "images_path = os.path.join(dataset_dir, \"images\")\n",
    "annotations_datas = os.listdir(annotations_path)\n",
    "for annotations_data in annotations_datas:\n",
    "    xml_path = os.path.join(annotations_path, annotations_data)\n",
    "    data = fileToDict(xml_path)[\"annotation\"]\n",
    "    file = os.path.join(images_path, data[\"filename\"])\n",
    "    shape = (int(data[\"size\"][\"height\"]), int(data[\"size\"][\"width\"]), int(data[\"size\"][\"depth\"]))\n",
    "    bboxs = []\n",
    "    status = []\n",
    "    if type(data[\"object\"]) == dict:\n",
    "        obj = data[\"object\"]\n",
    "        status.append(obj[\"name\"])\n",
    "        xmin = int(obj[\"bndbox\"][\"xmin\"])\n",
    "        ymin = int(obj[\"bndbox\"][\"ymin\"])\n",
    "        xmax = int(obj[\"bndbox\"][\"xmax\"])\n",
    "        ymax = int(obj[\"bndbox\"][\"ymax\"])\n",
    "        bboxs.append((xmin, ymin, xmax, ymax))\n",
    "    else:\n",
    "        for obj in data[\"object\"]:\n",
    "            status.append(obj[\"name\"])\n",
    "            xmin = int(obj[\"bndbox\"][\"xmin\"])\n",
    "            ymin = int(obj[\"bndbox\"][\"ymin\"])\n",
    "            xmax = int(obj[\"bndbox\"][\"xmax\"])\n",
    "            ymax = int(obj[\"bndbox\"][\"ymax\"])\n",
    "            bboxs.append((xmin, ymin, xmax, ymax))\n",
    "    dataset[\"image_path\"].append(file)\n",
    "    dataset[\"shape\"].append(shape)\n",
    "    dataset[\"status\"].append(status)\n",
    "    dataset[\"bboxs\"].append(bboxs)\n",
    "    total_num += len(status)\n",
    "dataset = pd.DataFrame(dataset)\n",
    "dataset.head()\n"
   ]
  },
  {
   "cell_type": "code",
   "execution_count": null,
   "metadata": {},
   "outputs": [],
   "source": [
    "print(f\"total_num = {total_num}\")\n",
    "valid_split_num = int(total_num * 0.1)\n",
    "test_split_num = int(total_num * 0.1)\n",
    "train_split_num = total_num - valid_split_num - test_split_num\n",
    "print(f\"train_split_num = {train_split_num}\")\n",
    "print(f\"valid_split_num = {valid_split_num}\")\n",
    "print(f\"test_split_num = {test_split_num}\")"
   ]
  },
  {
   "cell_type": "code",
   "execution_count": null,
   "metadata": {},
   "outputs": [],
   "source": [
    "data_path = os.path.join(dataset_dir, data_dirs[0])\n",
    "img_num = [0] * 3\n",
    "for i, image_path in enumerate(dataset[\"image_path\"]):\n",
    "    status = dataset[\"status\"][i]\n",
    "    bboxs = dataset[\"bboxs\"][i]\n",
    "    img = cv2.imread(image_path)\n",
    "    img_draw = img.copy()\n",
    "    for info in zip(status, bboxs):\n",
    "        y_data = info[0]\n",
    "        # cv2.rectangle(img_draw, bbox[:2], bbox[2:], (0, 255, 0), 2)\n",
    "        img_crop = img.copy()[info[1][1]:info[1][3], info[1][0]:info[1][2]]\n",
    "        x_data = cv2.resize(img_crop, (64, 64))\n",
    "        # cv2_imshow(x_data)\n",
    "        path = os.path.join(data_path, y_data)\n",
    "        img_path = os.path.join(path, f\"{img_num[labels.index(y_data)]}.jpg\")\n",
    "        print(img_path)\n",
    "        cv2.imwrite(img_path, x_data)\n",
    "        # tra_data = {\"image\": x_data, \"label\": y_data}\n",
    "        img_num[labels.index(y_data)] += 1\n",
    "    # cv2_imshow(img)\n",
    "    # break\n"
   ]
  },
  {
   "cell_type": "code",
   "execution_count": null,
   "metadata": {},
   "outputs": [],
   "source": [
    "split_rate = 0.8, 0.1, 0.1"
   ]
  },
  {
   "cell_type": "code",
   "execution_count": null,
   "metadata": {},
   "outputs": [],
   "source": [
    "for dir in os.listdir(data_path):\n",
    "    _path = os.path.join(data_path, dir)\n",
    "    print(f\"{_path}:\")\n",
    "    file_total_num = len(os.listdir(_path))\n",
    "    for i, spile in enumerate(split_rate[1:]):\n",
    "        file_list = os.listdir(_path)\n",
    "        file_num = len(file_list)\n",
    "        file_spile_num = int(file_total_num * spile)\n",
    "        print(f\"file_spile_num = {file_spile_num}\")\n",
    "        for file in file_list[:file_spile_num]:\n",
    "            _file_path = os.path.join(_path, file)\n",
    "            _new_file_path = os.path.join(dataset_dir, data_dirs[i + 2], dir, file)\n",
    "            os.rename(_file_path, _new_file_path)\n",
    "            # print(_file_path, _new_file_path)\n",
    "    file_list = os.listdir(_path)\n",
    "    for file in file_list:\n",
    "        _file_path = os.path.join(_path, file)\n",
    "        _new_file_path = os.path.join(dataset_dir, data_dirs[1], dir, file)\n",
    "        os.rename(_file_path, _new_file_path)\n",
    "    print(f\"file_spile_num = {len(file_list)}\")\n",
    "    # break\n",
    "    "
   ]
  }
 ],
 "metadata": {
  "interpreter": {
   "hash": "5a1af232b417dd52ac5e484eceb9b15881c591b30356e01b51a9e4e51b5e3b8d"
  },
  "kernelspec": {
   "display_name": "Python 3",
   "language": "python",
   "name": "python3"
  },
  "orig_nbformat": 4
 },
 "nbformat": 4,
 "nbformat_minor": 2
}
