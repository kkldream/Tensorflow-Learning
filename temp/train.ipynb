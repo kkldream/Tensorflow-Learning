{
 "cells": [
  {
   "cell_type": "markdown",
   "metadata": {},
   "source": [
    "### 環境初始化"
   ]
  },
  {
   "cell_type": "code",
   "execution_count": 1,
   "metadata": {},
   "outputs": [
    {
     "name": "stdout",
     "output_type": "stream",
     "text": [
      "/home/kk/jupyter/mouth_detection\n"
     ]
    }
   ],
   "source": [
    "cd /home/kk/jupyter/mouth_detection/"
   ]
  },
  {
   "cell_type": "code",
   "execution_count": 2,
   "metadata": {},
   "outputs": [
    {
     "name": "stderr",
     "output_type": "stream",
     "text": [
      "Using TensorFlow backend.\n"
     ]
    }
   ],
   "source": [
    "import pandas as pd\n",
    "import numpy as np\n",
    "from keras.models import Sequential\n",
    "from keras.layers import Dense, Dropout, Activation, Flatten, LSTM, TimeDistributed, RepeatVector\n",
    "from keras.layers.normalization import BatchNormalization\n",
    "from keras.optimizers import Adam\n",
    "from keras.callbacks import EarlyStopping, ModelCheckpoint\n",
    "import matplotlib.pyplot as plt\n",
    "import json\n",
    "import random\n",
    "%matplotlib inline"
   ]
  },
  {
   "cell_type": "markdown",
   "metadata": {},
   "source": [
    "### 資料集格式範例"
   ]
  },
  {
   "cell_type": "markdown",
   "metadata": {},
   "source": [
    "\n",
    "檔案標頭\n",
    "```json\n",
    "{\n",
    "    \"file\": \"1-FemaleNoGlasses-Normal\",\n",
    "    \"size\": 419,\n",
    "    \"fps\": 30,\n",
    "    \"marker_path\": \"dataset/markers/1-FemaleNoGlasses-Normal.csv\",\n",
    "    \"video_path\": \"dataset/YawDD/train/1-FemaleNoGlasses-Normal.avi\"\n",
    "}\n",
    "```\n",
    "標記內容\n",
    "```json\n",
    "{\n",
    "    \"index\": 1,\n",
    "    \"level\": \"0\",\n",
    "    \"mouth_ear\": 0.02305602969572012,\n",
    "    \"roll\": -2.8421378836556643,\n",
    "    \"yaw\": 38.241611421108246,\n",
    "    \"pitch\": -11.410418897867203\n",
    "}\n",
    "```"
   ]
  },
  {
   "cell_type": "markdown",
   "metadata": {},
   "source": [
    "### 功能函式"
   ]
  },
  {
   "cell_type": "markdown",
   "metadata": {},
   "source": [
    "**自訂功能函式**：map(var, in_min, in_max, out_min, out_max)"
   ]
  },
  {
   "cell_type": "code",
   "execution_count": 3,
   "metadata": {},
   "outputs": [],
   "source": [
    "def map(var, in_min, in_max, out_min, out_max):\n",
    "    var = float(var)\n",
    "    if var >= in_max:\n",
    "        return out_max\n",
    "    if var <= in_min:\n",
    "        return out_min\n",
    "    return (var - in_min) * (out_max - out_min) / (in_max - in_min) + out_min"
   ]
  },
  {
   "cell_type": "markdown",
   "metadata": {},
   "source": [
    "**讀取資料集且正規化**：readData(file)"
   ]
  },
  {
   "cell_type": "code",
   "execution_count": 4,
   "metadata": {},
   "outputs": [],
   "source": [
    "def readDataList(file):\n",
    "    train_list = []\n",
    "    with open(file, 'r', encoding='utf-8') as f:\n",
    "        while True:\n",
    "            line = f.readline()\n",
    "            if len(line) == 0: break\n",
    "            file_json = json.loads(line)\n",
    "            mlist = []\n",
    "            for i in range(file_json['size']):\n",
    "                mline = f.readline()\n",
    "                mjson = json.loads(mline)\n",
    "                level = map(mjson['level'], 0, 5, 0, 1)\n",
    "                mouth_ear = map(mjson['mouth_ear'], 0, 1, 0, 1)\n",
    "                roll = map(mjson['roll'], -50, 50, -1, 1)\n",
    "                yaw = map(mjson['yaw'], -50, 50, -1, 1)\n",
    "                pitch = map(mjson['pitch'], -50, 50, -1, 1)\n",
    "                mlist.append(np.array([\n",
    "                    level,\n",
    "                    mouth_ear,\n",
    "                    roll,\n",
    "                    yaw,\n",
    "                    pitch\n",
    "                ]))\n",
    "            train_list.append(np.array(mlist))\n",
    "    return np.array(train_list)"
   ]
  },
  {
   "cell_type": "markdown",
   "metadata": {},
   "source": [
    "**產生訓練資料**：buildTrain(train_list, long=300)"
   ]
  },
  {
   "cell_type": "code",
   "execution_count": 5,
   "metadata": {},
   "outputs": [],
   "source": [
    "def buildTrain(train_list, long=300):\n",
    "  X_train, Y_train = [], []\n",
    "  for t in train_list:\n",
    "    train = np.array(t)\n",
    "    for i in range(train.shape[0]-long):\n",
    "      X_train.append(train[i:i+long,1:])\n",
    "      Y_train.append(train[i+long-1][0])\n",
    "  return np.array(X_train), np.array(Y_train)"
   ]
  },
  {
   "cell_type": "markdown",
   "metadata": {},
   "source": [
    "**資料隨機排序**：shuffle(X,Y)"
   ]
  },
  {
   "cell_type": "code",
   "execution_count": 6,
   "metadata": {},
   "outputs": [],
   "source": [
    "def shuffle(X,Y):\n",
    "    np.random.seed(10)\n",
    "    randomList = np.arange(X.shape[0])\n",
    "    np.random.shuffle(randomList)\n",
    "    return X[randomList], Y[randomList]"
   ]
  },
  {
   "cell_type": "markdown",
   "metadata": {},
   "source": [
    "**產生驗證資料**：splitData(X, Y, rate)"
   ]
  },
  {
   "cell_type": "code",
   "execution_count": 7,
   "metadata": {},
   "outputs": [],
   "source": [
    "def splitData(X, Y, rate):\n",
    "    X_train = X[int(X.shape[0]*rate):]\n",
    "    Y_train = Y[int(Y.shape[0]*rate):]\n",
    "    X_val = X[:int(X.shape[0]*rate)]\n",
    "    Y_val = Y[:int(Y.shape[0]*rate)]\n",
    "    return X_train, Y_train, X_val, Y_val"
   ]
  },
  {
   "cell_type": "markdown",
   "metadata": {},
   "source": [
    "### 主程式"
   ]
  },
  {
   "cell_type": "markdown",
   "metadata": {},
   "source": [
    "##### 建立訓練資料"
   ]
  },
  {
   "cell_type": "code",
   "execution_count": 8,
   "metadata": {},
   "outputs": [],
   "source": [
    "train_list = readDataList('train_data.txt')\n",
    "X_train, Y_train = buildTrain(train_list, 300)\n",
    "X_train, Y_train = shuffle(X_train, Y_train)\n",
    "X_train, Y_train, X_val, Y_val = splitData(X_train, Y_train, 0.1)"
   ]
  },
  {
   "cell_type": "markdown",
   "metadata": {},
   "source": [
    "**訓練資料圖形化**"
   ]
  },
  {
   "cell_type": "code",
   "execution_count": 9,
   "metadata": {},
   "outputs": [
    {
     "name": "stdout",
     "output_type": "stream",
     "text": [
      "X_data = [98632,:,0], Y_data = 0.8\n"
     ]
    },
    {
     "data": {
      "image/png": "[encoded data removed]",
      "text/plain": [
       "<Figure size 432x288 with 1 Axes>"
      ]
     },
     "metadata": {
      "needs_background": "light"
     },
     "output_type": "display_data"
    },
    {
     "name": "stdout",
     "output_type": "stream",
     "text": [
      "X_data = [9572,:,0], Y_data = 0.0\n"
     ]
    },
    {
     "data": {
      "image/png": "[encoded data removed]",
      "text/plain": [
       "<Figure size 432x288 with 1 Axes>"
      ]
     },
     "metadata": {
      "needs_background": "light"
     },
     "output_type": "display_data"
    }
   ],
   "source": [
    "def drawTrain(i, num):\n",
    "    plt.subplot(210 + i)\n",
    "    plt.plot(X_train[num,:,0], color='r', label='X_train')\n",
    "    print(f'X_data = [{num},:,0], Y_data = {Y_train[num]}')\n",
    "    plt.ylim(0, 0.5)\n",
    "    plt.legend()\n",
    "    plt.grid(True)\n",
    "    plt.show()\n",
    "def getRnd():\n",
    "    return random.randint(0, X_train.shape[0] - 1)\n",
    "def draw():\n",
    "    while True:\n",
    "        rnd = getRnd()\n",
    "        if Y_train[rnd] > 0.5:\n",
    "            drawTrain(1, rnd)\n",
    "            break\n",
    "    while True:\n",
    "        rnd = getRnd()\n",
    "        if Y_train[rnd] <= 0.5:\n",
    "            drawTrain(2, rnd)\n",
    "            break\n",
    "draw()"
   ]
  },
  {
   "cell_type": "markdown",
   "metadata": {},
   "source": [
    "##### 建立訓練模型"
   ]
  },
  {
   "cell_type": "code",
   "execution_count": 10,
   "metadata": {},
   "outputs": [
    {
     "name": "stdout",
     "output_type": "stream",
     "text": [
      "_________________________________________________________________\n",
      "Layer (type)                 Output Shape              Param #   \n",
      "=================================================================\n",
      "lstm_1 (LSTM)                (None, 300, 50)           11000     \n",
      "_________________________________________________________________\n",
      "dropout_1 (Dropout)          (None, 300, 50)           0         \n",
      "_________________________________________________________________\n",
      "lstm_2 (LSTM)                (None, 300, 50)           20200     \n",
      "_________________________________________________________________\n",
      "dropout_2 (Dropout)          (None, 300, 50)           0         \n",
      "_________________________________________________________________\n",
      "lstm_3 (LSTM)                (None, 300, 50)           20200     \n",
      "_________________________________________________________________\n",
      "dropout_3 (Dropout)          (None, 300, 50)           0         \n",
      "_________________________________________________________________\n",
      "lstm_4 (LSTM)                (None, 50)                20200     \n",
      "_________________________________________________________________\n",
      "dropout_4 (Dropout)          (None, 50)                0         \n",
      "_________________________________________________________________\n",
      "dense_1 (Dense)              (None, 1)                 51        \n",
      "=================================================================\n",
      "Total params: 71,651\n",
      "Trainable params: 71,651\n",
      "Non-trainable params: 0\n",
      "_________________________________________________________________\n"
     ]
    }
   ],
   "source": [
    "model = Sequential([\n",
    "    LSTM(50, return_sequences = True, input_shape=X_train.shape[1:]),\n",
    "    Dropout(0.2),\n",
    "    LSTM(50, return_sequences = True),\n",
    "    Dropout(0.2),\n",
    "    LSTM(50, return_sequences = True),\n",
    "    Dropout(0.2),\n",
    "    LSTM(50),\n",
    "    Dropout(0.2),\n",
    "    Dense(1)\n",
    "])\n",
    "model.compile(loss=\"mse\", optimizer=\"adam\")\n",
    "model.summary()"
   ]
  },
  {
   "cell_type": "markdown",
   "metadata": {},
   "source": [
    "**查看模型權重**"
   ]
  },
  {
   "cell_type": "code",
   "execution_count": null,
   "metadata": {},
   "outputs": [],
   "source": [
    "print(len(model.layers))\n",
    "print(model.layers[0].get_weights())"
   ]
  },
  {
   "cell_type": "markdown",
   "metadata": {},
   "source": [
    "##### 開始訓練"
   ]
  },
  {
   "cell_type": "code",
   "execution_count": 11,
   "metadata": {},
   "outputs": [
    {
     "name": "stdout",
     "output_type": "stream",
     "text": [
      "Train on 114966 samples, validate on 12773 samples\n",
      "Epoch 1/1000\n",
      "114966/114966 [==============================] - 4841s 42ms/step - loss: 0.0272 - val_loss: 0.0320\n",
      "Epoch 2/1000\n",
      "114966/114966 [==============================] - 5095s 44ms/step - loss: 0.0251 - val_loss: 0.0182\n",
      "Epoch 3/1000\n",
      "114966/114966 [==============================] - 5359s 47ms/step - loss: 0.0173 - val_loss: 0.0134\n",
      "Epoch 4/1000\n",
      "114966/114966 [==============================] - 5431s 47ms/step - loss: 0.0149 - val_loss: 0.0166\n",
      "Epoch 5/1000\n",
      "114966/114966 [==============================] - 5460s 47ms/step - loss: 0.0117 - val_loss: 0.0106\n",
      "Epoch 6/1000\n",
      "114966/114966 [==============================] - 5469s 48ms/step - loss: 0.0111 - val_loss: 0.0126\n",
      "Epoch 7/1000\n",
      "114966/114966 [==============================] - 5460s 47ms/step - loss: 0.0109 - val_loss: 0.0093\n",
      "Epoch 8/1000\n",
      "114966/114966 [==============================] - 5428s 47ms/step - loss: 0.0109 - val_loss: 0.0106\n",
      "Epoch 9/1000\n",
      "114966/114966 [==============================] - 5379s 47ms/step - loss: 0.0126 - val_loss: 0.0091\n",
      "Epoch 10/1000\n",
      "114966/114966 [==============================] - 5374s 47ms/step - loss: 0.0104 - val_loss: 0.0104\n",
      "Epoch 11/1000\n",
      "114966/114966 [==============================] - 5471s 48ms/step - loss: 0.0100 - val_loss: 0.0092\n",
      "Epoch 12/1000\n",
      "114966/114966 [==============================] - 5457s 47ms/step - loss: 0.0096 - val_loss: 0.0085\n",
      "Epoch 13/1000\n",
      "114966/114966 [==============================] - 5456s 47ms/step - loss: 0.0094 - val_loss: 0.0085\n",
      "Epoch 14/1000\n",
      "114966/114966 [==============================] - 5275s 46ms/step - loss: 0.0085 - val_loss: 0.0074\n",
      "Epoch 15/1000\n",
      "114966/114966 [==============================] - 4210s 37ms/step - loss: 0.0082 - val_loss: 0.0080\n",
      "Epoch 16/1000\n",
      "114966/114966 [==============================] - 4746s 41ms/step - loss: 0.0089 - val_loss: 0.0079\n",
      "Epoch 17/1000\n",
      "114966/114966 [==============================] - 5343s 46ms/step - loss: 0.0085 - val_loss: 0.0065\n",
      "Epoch 18/1000\n",
      "114966/114966 [==============================] - 4586s 40ms/step - loss: 0.0077 - val_loss: 0.0101\n",
      "Epoch 19/1000\n",
      "114966/114966 [==============================] - 4536s 39ms/step - loss: 0.0070 - val_loss: 0.0119\n",
      "Epoch 20/1000\n",
      "114966/114966 [==============================] - 5369s 47ms/step - loss: 0.0068 - val_loss: 0.0050\n",
      "Epoch 21/1000\n",
      "114966/114966 [==============================] - 5404s 47ms/step - loss: 0.0053 - val_loss: 0.0060\n",
      "Epoch 22/1000\n",
      "114966/114966 [==============================] - 4866s 42ms/step - loss: 0.0072 - val_loss: 0.0045\n",
      "Epoch 23/1000\n",
      "114966/114966 [==============================] - 4052s 35ms/step - loss: 0.0073 - val_loss: 0.0092\n",
      "Epoch 24/1000\n",
      "114966/114966 [==============================] - 4094s 36ms/step - loss: 0.0053 - val_loss: 0.0039\n",
      "Epoch 25/1000\n",
      "114966/114966 [==============================] - 4136s 36ms/step - loss: 0.0051 - val_loss: 0.0032\n",
      "Epoch 26/1000\n",
      "114966/114966 [==============================] - 4142s 36ms/step - loss: 0.0047 - val_loss: 0.0042\n",
      "Epoch 27/1000\n",
      "114966/114966 [==============================] - 4118s 36ms/step - loss: 0.0043 - val_loss: 0.0028\n",
      "Epoch 28/1000\n",
      "114966/114966 [==============================] - 4151s 36ms/step - loss: 0.0040 - val_loss: 0.0028\n",
      "Epoch 29/1000\n",
      "114966/114966 [==============================] - 4148s 36ms/step - loss: 0.0069 - val_loss: 0.0280\n",
      "Epoch 30/1000\n",
      "114966/114966 [==============================] - 4145s 36ms/step - loss: 0.0211 - val_loss: 0.0166\n",
      "Epoch 31/1000\n",
      "114966/114966 [==============================] - 4142s 36ms/step - loss: 0.0147 - val_loss: 0.0110\n",
      "Epoch 32/1000\n",
      "114966/114966 [==============================] - 4106s 36ms/step - loss: 0.0139 - val_loss: 0.0149\n",
      "Epoch 33/1000\n",
      "114966/114966 [==============================] - 4073s 35ms/step - loss: 0.0128 - val_loss: 0.0095\n",
      "Epoch 34/1000\n",
      "114966/114966 [==============================] - 4096s 36ms/step - loss: 0.0161 - val_loss: 0.0201\n",
      "Epoch 35/1000\n",
      "114966/114966 [==============================] - 4092s 36ms/step - loss: 0.0130 - val_loss: 0.0215\n",
      "Epoch 36/1000\n",
      "114966/114966 [==============================] - 3859s 34ms/step - loss: 0.0143 - val_loss: 0.0160\n",
      "Epoch 37/1000\n",
      "114966/114966 [==============================] - 3756s 33ms/step - loss: 0.0131 - val_loss: 0.0106\n",
      "Epoch 38/1000\n",
      "114966/114966 [==============================] - 4014s 35ms/step - loss: 0.0114 - val_loss: 0.0100\n",
      "Epoch 00038: early stopping\n"
     ]
    }
   ],
   "source": [
    "epochs = 1000\n",
    "batch_size = 32\n",
    "callback = EarlyStopping(monitor=\"loss\", patience=10, verbose=1, mode=\"auto\")\n",
    "trainHistory = model.fit(X_train, Y_train, epochs=epochs, batch_size=batch_size, validation_data=(X_val, Y_val), callbacks=[callback])"
   ]
  },
  {
   "cell_type": "markdown",
   "metadata": {},
   "source": [
    "**繪製Loss線**"
   ]
  },
  {
   "cell_type": "code",
   "execution_count": 13,
   "metadata": {},
   "outputs": [
    {
     "data": {
      "image/png": "[encoded data removed]",
      "text/plain": [
       "<Figure size 432x288 with 1 Axes>"
      ]
     },
     "metadata": {
      "needs_background": "light"
     },
     "output_type": "display_data"
    }
   ],
   "source": [
    "plt.plot(trainHistory.history['loss'], color='r', label='loss')\n",
    "plt.plot(trainHistory.history['val_loss'], color='b', label='val_loss')\n",
    "plt.legend()\n",
    "plt.show()"
   ]
  },
  {
   "cell_type": "markdown",
   "metadata": {},
   "source": [
    "### 匯出模型"
   ]
  },
  {
   "cell_type": "code",
   "execution_count": null,
   "metadata": {},
   "outputs": [],
   "source": [
    "model_file_name = f'model_{len(model.layers)}_layer_{epochs}_epoch_{batch_size}_batch.h5'\n",
    "model_file_name"
   ]
  },
  {
   "cell_type": "code",
   "execution_count": null,
   "metadata": {},
   "outputs": [],
   "source": [
    "model.save(model_file_name)"
   ]
  },
  {
   "cell_type": "markdown",
   "metadata": {},
   "source": [
    "# 測試模型"
   ]
  },
  {
   "cell_type": "code",
   "execution_count": null,
   "metadata": {},
   "outputs": [],
   "source": [
    "from keras.models import load_model\n",
    "my_model = load_model(model_file_name)"
   ]
  },
  {
   "cell_type": "code",
   "execution_count": null,
   "metadata": {},
   "outputs": [],
   "source": [
    "test = readData('output2.txt')\n",
    "test_norm = normalize(test)\n",
    "X_test, Y_test = buildTrain(test_norm, 100)\n",
    "X_test = np.reshape(X_test, (X_test.shape[0], X_test.shape[1], 1))\n",
    "print(f'X_test: {X_test.shape}')\n",
    "print(f'Y_test: {Y_test.shape}')"
   ]
  },
  {
   "cell_type": "code",
   "execution_count": null,
   "metadata": {},
   "outputs": [],
   "source": [
    "predicted = my_model.predict(X_test)\n",
    "plt.plot(test_norm[100:,1], color='g', label='X_test')\n",
    "plt.plot(Y_test, color='r', label='Y_test')\n",
    "plt.plot(predicted, color='b', label='Predicted')\n",
    "plt.legend()\n",
    "plt.show()"
   ]
  }
 ],
 "metadata": {
  "kernelspec": {
   "display_name": "Python 3",
   "language": "python",
   "name": "python3"
  },
  "orig_nbformat": 4
 },
 "nbformat": 4,
 "nbformat_minor": 2
}
