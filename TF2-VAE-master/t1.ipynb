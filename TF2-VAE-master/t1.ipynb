{
 "cells": [
  {
   "cell_type": "code",
   "execution_count": 1,
   "metadata": {},
   "outputs": [],
   "source": [
    "import os\n",
    "os.environ[\"CUDA_VISIBLE_DEVICES\"] = \"0\""
   ]
  },
  {
   "cell_type": "code",
   "execution_count": 4,
   "metadata": {},
   "outputs": [],
   "source": [
    "import tensorflow as tf\n",
    "import tensorflow_datasets as tfds\n",
    "from tensorflow import keras\n",
    "from utils.models import create_vae_model\n",
    "from utils.losses import reconstruction_loss\n",
    "from utils.callbacks import SaveDecoderOutput, SaveDecoderModel"
   ]
  },
  {
   "cell_type": "code",
   "execution_count": null,
   "metadata": {},
   "outputs": [],
   "source": [
    "physical_gpus = tf.config.list_physical_devices('GPU')\n",
    "tf.config.experimental.set_memory_growth(physical_gpus[0], True)"
   ]
  },
  {
   "cell_type": "code",
   "execution_count": 5,
   "metadata": {},
   "outputs": [],
   "source": [
    "def parse_fn(dataset, input_size=(28, 28)):\n",
    "    x = tf.cast(dataset['image'], tf.float32)\n",
    "    x = tf.image.resize(x, input_size)\n",
    "    x = x / 255.\n",
    "    return x, x"
   ]
  },
  {
   "cell_type": "code",
   "execution_count": 6,
   "metadata": {},
   "outputs": [],
   "source": [
    "dataset = 'mnist'     # 'cifar10', 'fashion_mnist', 'mnist'\n",
    "log_dirs = 'logs_vae'\n",
    "batch_size = 16\n",
    "latent_dim = 2\n",
    "input_shape = (28, 28, 1)"
   ]
  },
  {
   "cell_type": "code",
   "execution_count": 7,
   "metadata": {},
   "outputs": [
    {
     "name": "stdout",
     "output_type": "stream",
     "text": [
      "\u001b[1mDownloading and preparing dataset Unknown size (download: Unknown size, generated: Unknown size, total: Unknown size) to ~\\tensorflow_datasets\\mnist\\3.0.1...\u001b[0m\n"
     ]
    },
    {
     "name": "stderr",
     "output_type": "stream",
     "text": [
      "Dl Completed...: 0 url [00:00, ? url/s]\n",
      "Dl Completed...:   0%|          | 0/1 [00:00<?, ? url/s]\n",
      "Dl Completed...:   0%|          | 0/2 [00:00<?, ? url/s]\n",
      "Dl Completed...:   0%|          | 0/3 [00:00<?, ? url/s]\n",
      "Dl Completed...:   0%|          | 0/4 [00:00<?, ? url/s]\n",
      "Dl Completed...:   0%|          | 0/4 [00:00<?, ? url/s]\n",
      "Dl Completed...:   0%|          | 0/4 [00:00<?, ? url/s]\n",
      "Dl Completed...:   0%|          | 0/4 [00:00<?, ? url/s]\n",
      "Dl Completed...:   0%|          | 0/4 [00:00<?, ? url/s]\n",
      "Dl Completed...:  25%|██▌       | 1/4 [00:00<00:00, 10.45 url/s]\n",
      "Dl Completed...:  50%|█████     | 2/4 [00:00<00:00, 19.02 url/s]\n",
      "Dl Completed...:  50%|█████     | 2/4 [00:00<00:00, 19.02 url/s]\n",
      "Dl Completed...:  50%|█████     | 2/4 [00:00<00:00, 19.02 url/s]\n",
      "\u001b[A\n",
      "Dl Completed...:  50%|█████     | 2/4 [00:00<00:00, 19.02 url/s]\n",
      "Dl Completed...:  50%|█████     | 2/4 [00:00<00:00, 19.02 url/s]\n",
      "Dl Completed...:  50%|█████     | 2/4 [00:00<00:00, 19.02 url/s]\n",
      "Dl Completed...:  50%|█████     | 2/4 [00:00<00:00, 19.02 url/s]\n",
      "Dl Completed...:  50%|█████     | 2/4 [00:00<00:00, 19.02 url/s]\n",
      "Dl Completed...:  75%|███████▌  | 3/4 [00:00<00:00, 19.02 url/s]\n",
      "Dl Completed...:  75%|███████▌  | 3/4 [00:00<00:00, 19.02 url/s]\n",
      "Dl Completed...:  75%|███████▌  | 3/4 [00:00<00:00, 19.02 url/s]\n",
      "Dl Completed...:  75%|███████▌  | 3/4 [00:00<00:00, 19.02 url/s]\n",
      "\u001b[A\n",
      "Dl Completed...:  75%|███████▌  | 3/4 [00:00<00:00, 19.02 url/s]\n",
      "Dl Completed...:  75%|███████▌  | 3/4 [00:00<00:00, 19.02 url/s]\n",
      "Dl Completed...:  75%|███████▌  | 3/4 [00:00<00:00, 19.02 url/s]\n",
      "Dl Completed...:  75%|███████▌  | 3/4 [00:00<00:00, 19.02 url/s]\n",
      "Dl Completed...:  75%|███████▌  | 3/4 [00:00<00:00, 19.02 url/s]\n",
      "Dl Completed...:  75%|███████▌  | 3/4 [00:00<00:00, 19.02 url/s]\n",
      "Dl Completed...: 100%|██████████| 4/4 [00:01<00:00,  3.49 url/s]\n",
      "Dl Completed...: 100%|██████████| 4/4 [00:01<00:00,  3.49 url/s]\n",
      "\u001b[A\n",
      "Dl Completed...: 100%|██████████| 4/4 [00:01<00:00,  3.49 url/s]\n",
      "Extraction completed...: 100%|██████████| 4/4 [00:01<00:00,  2.92 file/s]\n",
      "Dl Size...: 100%|██████████| 10/10 [00:01<00:00,  7.29 MiB/s]\n",
      "Dl Completed...: 100%|██████████| 4/4 [00:01<00:00,  2.91 url/s]\n",
      "                                                                        \r"
     ]
    },
    {
     "name": "stdout",
     "output_type": "stream",
     "text": [
      "\u001b[1mDataset mnist downloaded and prepared to ~\\tensorflow_datasets\\mnist\\3.0.1. Subsequent calls will reuse this data.\u001b[0m\n"
     ]
    }
   ],
   "source": [
    "# Load datasets\n",
    "train_data = tfds.load(dataset, split=tfds.Split.TRAIN)\n",
    "test_data = tfds.load(dataset, split=tfds.Split.TEST)"
   ]
  },
  {
   "cell_type": "code",
   "execution_count": 8,
   "metadata": {},
   "outputs": [],
   "source": [
    "# Setting datasets\n",
    "AUTOTUNE = tf.data.experimental.AUTOTUNE  # 自動調整模式\n",
    "train_data = train_data.shuffle(1000)\n",
    "train_data = train_data.map(parse_fn, num_parallel_calls=AUTOTUNE)\n",
    "train_data = train_data.batch(batch_size)\n",
    "train_data = train_data.prefetch(buffer_size=AUTOTUNE)\n",
    "test_data = test_data.map(parse_fn, num_parallel_calls=AUTOTUNE)\n",
    "test_data = test_data.batch(batch_size)\n",
    "test_data = test_data.prefetch(buffer_size=AUTOTUNE)"
   ]
  },
  {
   "cell_type": "code",
   "execution_count": 9,
   "metadata": {},
   "outputs": [],
   "source": [
    "# Callbacks function\n",
    "model_dir = log_dirs + '/models'\n",
    "os.makedirs(model_dir, exist_ok=True)\n",
    "model_tb = keras.callbacks.TensorBoard(log_dir=log_dirs)\n",
    "model_sdw = SaveDecoderModel(model_dir + '/best_model.h5', monitor='val_loss')\n",
    "model_testd = SaveDecoderOutput(28, log_dir=log_dirs)"
   ]
  },
  {
   "cell_type": "code",
   "execution_count": 18,
   "metadata": {},
   "outputs": [
    {
     "name": "stdout",
     "output_type": "stream",
     "text": [
      "Model: \"encoder\"\n",
      "__________________________________________________________________________________________________\n",
      "Layer (type)                    Output Shape         Param #     Connected to                     \n",
      "==================================================================================================\n",
      "input_3 (InputLayer)            [(None, 28, 28, 1)]  0                                            \n",
      "__________________________________________________________________________________________________\n",
      "conv2d_5 (Conv2D)               (None, 28, 28, 32)   320         input_3[0][0]                    \n",
      "__________________________________________________________________________________________________\n",
      "conv2d_6 (Conv2D)               (None, 14, 14, 64)   18496       conv2d_5[0][0]                   \n",
      "__________________________________________________________________________________________________\n",
      "conv2d_7 (Conv2D)               (None, 7, 7, 64)     36928       conv2d_6[0][0]                   \n",
      "__________________________________________________________________________________________________\n",
      "conv2d_8 (Conv2D)               (None, 7, 7, 64)     36928       conv2d_7[0][0]                   \n",
      "__________________________________________________________________________________________________\n",
      "flatten_1 (Flatten)             (None, 3136)         0           conv2d_8[0][0]                   \n",
      "__________________________________________________________________________________________________\n",
      "dense_4 (Dense)                 (None, 32)           100384      flatten_1[0][0]                  \n",
      "__________________________________________________________________________________________________\n",
      "dense_5 (Dense)                 (None, 2)            66          dense_4[0][0]                    \n",
      "__________________________________________________________________________________________________\n",
      "dense_6 (Dense)                 (None, 2)            66          dense_4[0][0]                    \n",
      "__________________________________________________________________________________________________\n",
      "sampling_1 (Sampling)           (None, 2)            0           dense_5[0][0]                    \n",
      "                                                                 dense_6[0][0]                    \n",
      "==================================================================================================\n",
      "Total params: 193,188\n",
      "Trainable params: 193,188\n",
      "Non-trainable params: 0\n",
      "__________________________________________________________________________________________________\n",
      "Model: \"decoder\"\n",
      "_________________________________________________________________\n",
      "Layer (type)                 Output Shape              Param #   \n",
      "=================================================================\n",
      "input_4 (InputLayer)         [(None, 2)]               0         \n",
      "_________________________________________________________________\n",
      "dense_7 (Dense)              (None, 3136)              9408      \n",
      "_________________________________________________________________\n",
      "reshape_1 (Reshape)          (None, 7, 7, 64)          0         \n",
      "_________________________________________________________________\n",
      "conv2d_transpose_2 (Conv2DTr (None, 14, 14, 64)        36928     \n",
      "_________________________________________________________________\n",
      "conv2d_transpose_3 (Conv2DTr (None, 28, 28, 64)        36928     \n",
      "_________________________________________________________________\n",
      "conv2d_9 (Conv2D)            (None, 28, 28, 1)         577       \n",
      "=================================================================\n",
      "Total params: 83,841\n",
      "Trainable params: 83,841\n",
      "Non-trainable params: 0\n",
      "_________________________________________________________________\n"
     ]
    }
   ],
   "source": [
    "# create vae model\n",
    "vae_model = create_vae_model(input_shape, latent_dim)"
   ]
  },
  {
   "cell_type": "code",
   "execution_count": 19,
   "metadata": {},
   "outputs": [
    {
     "name": "stdout",
     "output_type": "stream",
     "text": [
      "Epoch 1/100\n",
      "   3/3750 [..............................] - ETA: 6:29 - loss: 534.1042  WARNING:tensorflow:Callback method `on_train_batch_end` is slow compared to the batch time (batch time: 0.0163s vs `on_train_batch_end` time: 0.0283s). Check your callbacks.\n"
     ]
    },
    {
     "name": "stderr",
     "output_type": "stream",
     "text": [
      "WARNING:tensorflow:Callback method `on_train_batch_end` is slow compared to the batch time (batch time: 0.0163s vs `on_train_batch_end` time: 0.0283s). Check your callbacks.\n"
     ]
    },
    {
     "name": "stdout",
     "output_type": "stream",
     "text": [
      "3750/3750 [==============================] - 48s 13ms/step - loss: 162.1819 - val_loss: 149.7025\n",
      "Epoch 2/100\n",
      "3750/3750 [==============================] - 45s 12ms/step - loss: 148.3017 - val_loss: 145.6137\n",
      "Epoch 3/100\n",
      "3750/3750 [==============================] - 46s 12ms/step - loss: 144.9577 - val_loss: 143.2278\n",
      "Epoch 4/100\n",
      "3750/3750 [==============================] - 47s 12ms/step - loss: 143.1409 - val_loss: 144.0208\n",
      "Epoch 5/100\n",
      "3750/3750 [==============================] - 47s 13ms/step - loss: 141.9360 - val_loss: 141.5128\n",
      "WARNING:tensorflow:Compiled the loaded model, but the compiled metrics have yet to be built. `model.compile_metrics` will be empty until you train or evaluate the model.\n"
     ]
    },
    {
     "name": "stderr",
     "output_type": "stream",
     "text": [
      "WARNING:tensorflow:Compiled the loaded model, but the compiled metrics have yet to be built. `model.compile_metrics` will be empty until you train or evaluate the model.\n"
     ]
    },
    {
     "name": "stdout",
     "output_type": "stream",
     "text": [
      "Epoch 6/100\n",
      "3750/3750 [==============================] - 47s 12ms/step - loss: 140.9917 - val_loss: 140.6755\n",
      "WARNING:tensorflow:Compiled the loaded model, but the compiled metrics have yet to be built. `model.compile_metrics` will be empty until you train or evaluate the model.\n"
     ]
    },
    {
     "name": "stderr",
     "output_type": "stream",
     "text": [
      "WARNING:tensorflow:Compiled the loaded model, but the compiled metrics have yet to be built. `model.compile_metrics` will be empty until you train or evaluate the model.\n"
     ]
    },
    {
     "name": "stdout",
     "output_type": "stream",
     "text": [
      "Epoch 7/100\n",
      "3750/3750 [==============================] - 46s 12ms/step - loss: 140.3519 - val_loss: 141.2677\n",
      "Epoch 8/100\n",
      "3750/3750 [==============================] - 49s 13ms/step - loss: 139.8344 - val_loss: 139.5085\n",
      "WARNING:tensorflow:Compiled the loaded model, but the compiled metrics have yet to be built. `model.compile_metrics` will be empty until you train or evaluate the model.\n"
     ]
    },
    {
     "name": "stderr",
     "output_type": "stream",
     "text": [
      "WARNING:tensorflow:Compiled the loaded model, but the compiled metrics have yet to be built. `model.compile_metrics` will be empty until you train or evaluate the model.\n"
     ]
    },
    {
     "name": "stdout",
     "output_type": "stream",
     "text": [
      "Epoch 9/100\n",
      "3750/3750 [==============================] - 47s 13ms/step - loss: 139.4601 - val_loss: 139.9846\n",
      "Epoch 10/100\n",
      "3750/3750 [==============================] - 47s 13ms/step - loss: 139.0697 - val_loss: 139.9671\n",
      "Epoch 11/100\n",
      "3750/3750 [==============================] - 47s 12ms/step - loss: 138.7857 - val_loss: 139.6437\n",
      "Epoch 12/100\n",
      "3750/3750 [==============================] - 46s 12ms/step - loss: 138.5973 - val_loss: 139.3638\n",
      "WARNING:tensorflow:Compiled the loaded model, but the compiled metrics have yet to be built. `model.compile_metrics` will be empty until you train or evaluate the model.\n"
     ]
    },
    {
     "name": "stderr",
     "output_type": "stream",
     "text": [
      "WARNING:tensorflow:Compiled the loaded model, but the compiled metrics have yet to be built. `model.compile_metrics` will be empty until you train or evaluate the model.\n"
     ]
    },
    {
     "name": "stdout",
     "output_type": "stream",
     "text": [
      "Epoch 13/100\n",
      "3750/3750 [==============================] - 47s 13ms/step - loss: 138.3134 - val_loss: 139.6429\n",
      "Epoch 14/100\n",
      "3750/3750 [==============================] - 47s 13ms/step - loss: 138.2071 - val_loss: 140.4452\n",
      "Epoch 15/100\n",
      "3750/3750 [==============================] - 48s 13ms/step - loss: 137.9546 - val_loss: 139.7068\n",
      "Epoch 16/100\n",
      "3750/3750 [==============================] - 48s 13ms/step - loss: 137.7721 - val_loss: 138.2983\n",
      "WARNING:tensorflow:Compiled the loaded model, but the compiled metrics have yet to be built. `model.compile_metrics` will be empty until you train or evaluate the model.\n"
     ]
    },
    {
     "name": "stderr",
     "output_type": "stream",
     "text": [
      "WARNING:tensorflow:Compiled the loaded model, but the compiled metrics have yet to be built. `model.compile_metrics` will be empty until you train or evaluate the model.\n"
     ]
    },
    {
     "name": "stdout",
     "output_type": "stream",
     "text": [
      "Epoch 17/100\n",
      "3750/3750 [==============================] - 47s 13ms/step - loss: 137.6588 - val_loss: 138.6561\n",
      "Epoch 18/100\n",
      "3750/3750 [==============================] - 47s 13ms/step - loss: 137.5715 - val_loss: 138.4677\n",
      "Epoch 19/100\n",
      "3750/3750 [==============================] - 47s 12ms/step - loss: 137.3530 - val_loss: 139.2752\n",
      "Epoch 20/100\n",
      "3750/3750 [==============================] - 47s 12ms/step - loss: 137.3785 - val_loss: 138.3171\n",
      "Epoch 21/100\n",
      "3750/3750 [==============================] - 46s 12ms/step - loss: 137.1262 - val_loss: 138.1331\n",
      "WARNING:tensorflow:Compiled the loaded model, but the compiled metrics have yet to be built. `model.compile_metrics` will be empty until you train or evaluate the model.\n"
     ]
    },
    {
     "name": "stderr",
     "output_type": "stream",
     "text": [
      "WARNING:tensorflow:Compiled the loaded model, but the compiled metrics have yet to be built. `model.compile_metrics` will be empty until you train or evaluate the model.\n"
     ]
    },
    {
     "name": "stdout",
     "output_type": "stream",
     "text": [
      "Epoch 22/100\n",
      "3750/3750 [==============================] - 47s 13ms/step - loss: 137.2341 - val_loss: 138.6270\n",
      "Epoch 23/100\n",
      "3750/3750 [==============================] - 47s 13ms/step - loss: 137.2180 - val_loss: 137.4962\n",
      "WARNING:tensorflow:Compiled the loaded model, but the compiled metrics have yet to be built. `model.compile_metrics` will be empty until you train or evaluate the model.\n"
     ]
    },
    {
     "name": "stderr",
     "output_type": "stream",
     "text": [
      "WARNING:tensorflow:Compiled the loaded model, but the compiled metrics have yet to be built. `model.compile_metrics` will be empty until you train or evaluate the model.\n"
     ]
    },
    {
     "name": "stdout",
     "output_type": "stream",
     "text": [
      "Epoch 24/100\n",
      "3750/3750 [==============================] - 47s 13ms/step - loss: 137.1030 - val_loss: 138.1137\n",
      "Epoch 25/100\n",
      "3750/3750 [==============================] - 47s 13ms/step - loss: 136.9575 - val_loss: 139.5363\n",
      "Epoch 26/100\n",
      "3750/3750 [==============================] - 49s 13ms/step - loss: 136.7909 - val_loss: 138.3764\n",
      "Epoch 27/100\n",
      "3750/3750 [==============================] - 50s 13ms/step - loss: 136.9170 - val_loss: 137.5590\n",
      "Epoch 28/100\n",
      "3750/3750 [==============================] - 50s 13ms/step - loss: 136.7890 - val_loss: 137.5872\n",
      "Epoch 29/100\n",
      "3750/3750 [==============================] - 48s 13ms/step - loss: 136.6637 - val_loss: 137.9209\n",
      "Epoch 30/100\n",
      "3750/3750 [==============================] - 49s 13ms/step - loss: 136.6369 - val_loss: 137.4468\n",
      "WARNING:tensorflow:Compiled the loaded model, but the compiled metrics have yet to be built. `model.compile_metrics` will be empty until you train or evaluate the model.\n"
     ]
    },
    {
     "name": "stderr",
     "output_type": "stream",
     "text": [
      "WARNING:tensorflow:Compiled the loaded model, but the compiled metrics have yet to be built. `model.compile_metrics` will be empty until you train or evaluate the model.\n"
     ]
    },
    {
     "name": "stdout",
     "output_type": "stream",
     "text": [
      "Epoch 31/100\n",
      "3750/3750 [==============================] - 48s 13ms/step - loss: 136.5046 - val_loss: 137.5915\n",
      "Epoch 32/100\n",
      "3750/3750 [==============================] - 47s 12ms/step - loss: 136.4157 - val_loss: 137.4788\n",
      "Epoch 33/100\n",
      "3750/3750 [==============================] - 49s 13ms/step - loss: 136.3678 - val_loss: 137.5213\n",
      "Epoch 34/100\n",
      "3750/3750 [==============================] - 49s 13ms/step - loss: 136.4397 - val_loss: 137.0732\n",
      "WARNING:tensorflow:Compiled the loaded model, but the compiled metrics have yet to be built. `model.compile_metrics` will be empty until you train or evaluate the model.\n"
     ]
    },
    {
     "name": "stderr",
     "output_type": "stream",
     "text": [
      "WARNING:tensorflow:Compiled the loaded model, but the compiled metrics have yet to be built. `model.compile_metrics` will be empty until you train or evaluate the model.\n"
     ]
    },
    {
     "name": "stdout",
     "output_type": "stream",
     "text": [
      "Epoch 35/100\n",
      "3750/3750 [==============================] - 48s 13ms/step - loss: 136.3523 - val_loss: 137.2695\n",
      "Epoch 36/100\n",
      "3750/3750 [==============================] - 48s 13ms/step - loss: 136.2714 - val_loss: 137.7235\n",
      "Epoch 37/100\n",
      "3750/3750 [==============================] - 48s 13ms/step - loss: 136.2229 - val_loss: 138.4014\n",
      "Epoch 38/100\n",
      "3750/3750 [==============================] - 47s 13ms/step - loss: 136.2967 - val_loss: 137.3796\n",
      "Epoch 39/100\n",
      "3750/3750 [==============================] - 48s 13ms/step - loss: 136.1421 - val_loss: 136.8842\n",
      "WARNING:tensorflow:Compiled the loaded model, but the compiled metrics have yet to be built. `model.compile_metrics` will be empty until you train or evaluate the model.\n"
     ]
    },
    {
     "name": "stderr",
     "output_type": "stream",
     "text": [
      "WARNING:tensorflow:Compiled the loaded model, but the compiled metrics have yet to be built. `model.compile_metrics` will be empty until you train or evaluate the model.\n"
     ]
    },
    {
     "name": "stdout",
     "output_type": "stream",
     "text": [
      "Epoch 40/100\n",
      "3750/3750 [==============================] - 47s 12ms/step - loss: 136.0721 - val_loss: 137.1657\n",
      "Epoch 41/100\n",
      "3750/3750 [==============================] - 47s 12ms/step - loss: 136.0456 - val_loss: 137.6602\n",
      "Epoch 42/100\n",
      "3750/3750 [==============================] - 48s 13ms/step - loss: 136.1859 - val_loss: 137.0575\n",
      "Epoch 43/100\n",
      "3750/3750 [==============================] - 47s 13ms/step - loss: 136.0480 - val_loss: 137.2758\n",
      "Epoch 44/100\n",
      "3750/3750 [==============================] - 48s 13ms/step - loss: 136.1249 - val_loss: 136.9432\n",
      "Epoch 45/100\n",
      "3750/3750 [==============================] - 47s 13ms/step - loss: 135.9007 - val_loss: 137.3047\n",
      "Epoch 46/100\n",
      "3750/3750 [==============================] - 47s 13ms/step - loss: 135.9378 - val_loss: 137.1097\n",
      "Epoch 47/100\n",
      "3750/3750 [==============================] - 47s 13ms/step - loss: 135.8708 - val_loss: 138.8237\n",
      "Epoch 48/100\n",
      "3750/3750 [==============================] - 47s 12ms/step - loss: 135.9045 - val_loss: 136.9406\n",
      "Epoch 49/100\n",
      "3750/3750 [==============================] - 47s 12ms/step - loss: 135.8973 - val_loss: 137.1556\n",
      "Epoch 50/100\n",
      "3750/3750 [==============================] - 47s 13ms/step - loss: 135.8447 - val_loss: 137.1455\n",
      "Epoch 51/100\n",
      "3750/3750 [==============================] - 47s 13ms/step - loss: 135.8473 - val_loss: 136.8603\n",
      "WARNING:tensorflow:Compiled the loaded model, but the compiled metrics have yet to be built. `model.compile_metrics` will be empty until you train or evaluate the model.\n"
     ]
    },
    {
     "name": "stderr",
     "output_type": "stream",
     "text": [
      "WARNING:tensorflow:Compiled the loaded model, but the compiled metrics have yet to be built. `model.compile_metrics` will be empty until you train or evaluate the model.\n"
     ]
    },
    {
     "name": "stdout",
     "output_type": "stream",
     "text": [
      "Epoch 52/100\n",
      "3750/3750 [==============================] - 47s 13ms/step - loss: 135.7599 - val_loss: 136.5539\n",
      "WARNING:tensorflow:Compiled the loaded model, but the compiled metrics have yet to be built. `model.compile_metrics` will be empty until you train or evaluate the model.\n"
     ]
    },
    {
     "name": "stderr",
     "output_type": "stream",
     "text": [
      "WARNING:tensorflow:Compiled the loaded model, but the compiled metrics have yet to be built. `model.compile_metrics` will be empty until you train or evaluate the model.\n"
     ]
    },
    {
     "name": "stdout",
     "output_type": "stream",
     "text": [
      "Epoch 53/100\n",
      "3750/3750 [==============================] - 48s 13ms/step - loss: 135.7713 - val_loss: 137.2103\n",
      "Epoch 54/100\n",
      "3750/3750 [==============================] - 48s 13ms/step - loss: 135.6658 - val_loss: 136.7005\n",
      "Epoch 55/100\n",
      "3750/3750 [==============================] - 48s 13ms/step - loss: 135.6274 - val_loss: 137.2811\n",
      "Epoch 56/100\n",
      "3750/3750 [==============================] - 46s 12ms/step - loss: 135.6892 - val_loss: 137.7566\n",
      "Epoch 57/100\n",
      "3750/3750 [==============================] - 46s 12ms/step - loss: 135.7497 - val_loss: 136.2355\n",
      "WARNING:tensorflow:Compiled the loaded model, but the compiled metrics have yet to be built. `model.compile_metrics` will be empty until you train or evaluate the model.\n"
     ]
    },
    {
     "name": "stderr",
     "output_type": "stream",
     "text": [
      "WARNING:tensorflow:Compiled the loaded model, but the compiled metrics have yet to be built. `model.compile_metrics` will be empty until you train or evaluate the model.\n"
     ]
    },
    {
     "name": "stdout",
     "output_type": "stream",
     "text": [
      "Epoch 58/100\n",
      "3750/3750 [==============================] - 48s 13ms/step - loss: 135.7622 - val_loss: 136.8359\n",
      "Epoch 59/100\n",
      "3750/3750 [==============================] - 47s 13ms/step - loss: 135.7374 - val_loss: 137.0651\n",
      "Epoch 60/100\n",
      "3750/3750 [==============================] - 47s 13ms/step - loss: 135.7052 - val_loss: 138.2778\n",
      "Epoch 61/100\n",
      "3750/3750 [==============================] - 47s 12ms/step - loss: 135.7590 - val_loss: 136.5810\n",
      "Epoch 62/100\n",
      "3750/3750 [==============================] - 47s 13ms/step - loss: 135.6077 - val_loss: 137.0298\n",
      "Epoch 63/100\n",
      "3750/3750 [==============================] - 45s 12ms/step - loss: 135.6018 - val_loss: 136.8515\n",
      "Epoch 64/100\n",
      "3750/3750 [==============================] - 46s 12ms/step - loss: 135.7593 - val_loss: 137.4063\n",
      "Epoch 65/100\n",
      "3750/3750 [==============================] - 47s 12ms/step - loss: 135.7774 - val_loss: 137.3459\n",
      "Epoch 66/100\n",
      "3750/3750 [==============================] - 47s 12ms/step - loss: 135.7076 - val_loss: 137.5406\n",
      "Epoch 67/100\n",
      "3750/3750 [==============================] - 48s 13ms/step - loss: 135.7336 - val_loss: 137.2213\n",
      "Epoch 68/100\n",
      "3750/3750 [==============================] - 47s 13ms/step - loss: 135.7744 - val_loss: 137.2366\n",
      "Epoch 69/100\n",
      "3750/3750 [==============================] - 48s 13ms/step - loss: 135.5882 - val_loss: 137.0884\n",
      "Epoch 70/100\n",
      "3750/3750 [==============================] - 47s 13ms/step - loss: 135.8096 - val_loss: 136.6138\n",
      "Epoch 71/100\n",
      "3750/3750 [==============================] - 47s 13ms/step - loss: 135.6929 - val_loss: 136.9170\n",
      "Epoch 72/100\n",
      "3750/3750 [==============================] - 48s 13ms/step - loss: 135.6075 - val_loss: 137.5607\n",
      "Epoch 73/100\n",
      "3750/3750 [==============================] - 48s 13ms/step - loss: 135.5917 - val_loss: 137.8881\n",
      "Epoch 74/100\n",
      "3750/3750 [==============================] - 47s 12ms/step - loss: 135.7943 - val_loss: 137.4518\n",
      "Epoch 75/100\n",
      "3750/3750 [==============================] - 47s 12ms/step - loss: 135.7775 - val_loss: 137.6709\n",
      "Epoch 76/100\n",
      "3750/3750 [==============================] - 48s 13ms/step - loss: 135.6947 - val_loss: 136.9255\n",
      "Epoch 77/100\n",
      "3750/3750 [==============================] - 46s 12ms/step - loss: 135.5932 - val_loss: 137.4254\n",
      "Epoch 78/100\n",
      "3750/3750 [==============================] - 46s 12ms/step - loss: 135.5625 - val_loss: 138.1817\n",
      "Epoch 79/100\n",
      "3750/3750 [==============================] - 47s 13ms/step - loss: 135.7831 - val_loss: 137.1316\n",
      "Epoch 80/100\n",
      "3750/3750 [==============================] - 47s 13ms/step - loss: 135.6858 - val_loss: 136.8140\n",
      "Epoch 81/100\n",
      "3750/3750 [==============================] - 47s 13ms/step - loss: 135.6929 - val_loss: 137.1199\n",
      "Epoch 82/100\n",
      "3750/3750 [==============================] - 47s 13ms/step - loss: 135.6496 - val_loss: 136.9380\n",
      "Epoch 83/100\n",
      "3750/3750 [==============================] - 47s 13ms/step - loss: 135.7221 - val_loss: 136.9521\n",
      "Epoch 84/100\n",
      "3750/3750 [==============================] - 47s 13ms/step - loss: 135.6077 - val_loss: 138.4559\n",
      "Epoch 85/100\n",
      "3750/3750 [==============================] - 47s 13ms/step - loss: 135.6824 - val_loss: 136.9205\n",
      "Epoch 86/100\n",
      "3750/3750 [==============================] - 47s 13ms/step - loss: 135.7348 - val_loss: 136.9265\n",
      "Epoch 87/100\n",
      "3750/3750 [==============================] - 47s 13ms/step - loss: 135.7332 - val_loss: 136.7565\n",
      "Epoch 88/100\n",
      "3750/3750 [==============================] - 47s 13ms/step - loss: 135.6240 - val_loss: 138.2817\n",
      "Epoch 89/100\n",
      "3750/3750 [==============================] - 47s 13ms/step - loss: 135.6870 - val_loss: 137.5663\n",
      "Epoch 90/100\n",
      "3750/3750 [==============================] - 47s 13ms/step - loss: 135.6798 - val_loss: 136.7412\n",
      "Epoch 91/100\n",
      "3750/3750 [==============================] - 48s 13ms/step - loss: 135.5619 - val_loss: 136.7812\n",
      "Epoch 92/100\n",
      "3750/3750 [==============================] - 47s 13ms/step - loss: 135.6888 - val_loss: 137.5717\n",
      "Epoch 93/100\n",
      "3750/3750 [==============================] - 47s 13ms/step - loss: 135.5805 - val_loss: 136.9258\n",
      "Epoch 94/100\n",
      "3750/3750 [==============================] - 47s 13ms/step - loss: 135.5920 - val_loss: 136.8732\n",
      "Epoch 95/100\n",
      "3750/3750 [==============================] - 47s 13ms/step - loss: 135.5083 - val_loss: 137.1458\n",
      "Epoch 96/100\n",
      "3750/3750 [==============================] - 47s 13ms/step - loss: 135.6160 - val_loss: 138.2363\n",
      "Epoch 97/100\n",
      "3750/3750 [==============================] - 47s 12ms/step - loss: 135.7181 - val_loss: 138.0812\n",
      "Epoch 98/100\n",
      "3750/3750 [==============================] - 47s 13ms/step - loss: 135.5982 - val_loss: 137.9722\n",
      "Epoch 99/100\n",
      "3750/3750 [==============================] - 47s 12ms/step - loss: 135.6495 - val_loss: 136.8527\n",
      "Epoch 100/100\n",
      "3750/3750 [==============================] - 47s 13ms/step - loss: 135.7029 - val_loss: 136.5145\n"
     ]
    },
    {
     "data": {
      "text/plain": [
       "<keras.callbacks.History at 0x298641d6be0>"
      ]
     },
     "execution_count": 19,
     "metadata": {},
     "output_type": "execute_result"
    }
   ],
   "source": [
    "# training\n",
    "optimizer = tf.keras.optimizers.RMSprop()\n",
    "vae_model.compile(optimizer, loss=reconstruction_loss)\n",
    "vae_model.fit(train_data, epochs=100, validation_data=test_data, callbacks=[model_tb, model_sdw, model_testd])"
   ]
  }
 ],
 "metadata": {
  "kernelspec": {
   "display_name": "Python 3.9.12 ('tf26')",
   "language": "python",
   "name": "python3"
  },
  "language_info": {
   "codemirror_mode": {
    "name": "ipython",
    "version": 3
   },
   "file_extension": ".py",
   "mimetype": "text/x-python",
   "name": "python",
   "nbconvert_exporter": "python",
   "pygments_lexer": "ipython3",
   "version": "3.9.12"
  },
  "orig_nbformat": 4,
  "vscode": {
   "interpreter": {
    "hash": "5a1af232b417dd52ac5e484eceb9b15881c591b30356e01b51a9e4e51b5e3b8d"
   }
  }
 },
 "nbformat": 4,
 "nbformat_minor": 2
}
