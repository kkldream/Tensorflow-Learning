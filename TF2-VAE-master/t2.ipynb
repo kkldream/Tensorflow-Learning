{
 "cells": [
  {
   "cell_type": "code",
   "execution_count": 1,
   "metadata": {},
   "outputs": [],
   "source": [
    "import os\n",
    "os.environ[\"CUDA_VISIBLE_DEVICES\"] = \"0\""
   ]
  },
  {
   "cell_type": "code",
   "execution_count": 2,
   "metadata": {},
   "outputs": [],
   "source": [
    "import tensorflow as tf\n",
    "import tensorflow_datasets as tfds\n",
    "from tensorflow import keras\n",
    "from utils.models import create_vae_model\n",
    "from utils.losses import reconstruction_loss\n",
    "from utils.callbacks import SaveDecoderOutput, SaveDecoderModel"
   ]
  },
  {
   "cell_type": "code",
   "execution_count": 3,
   "metadata": {},
   "outputs": [],
   "source": [
    "physical_gpus = tf.config.list_physical_devices('GPU')\n",
    "tf.config.experimental.set_memory_growth(physical_gpus[0], True)"
   ]
  },
  {
   "cell_type": "code",
   "execution_count": 4,
   "metadata": {},
   "outputs": [],
   "source": [
    "def parse_fn(dataset, input_size=(28, 28)):\n",
    "    x = tf.cast(dataset['image'], tf.float32)\n",
    "    x = tf.image.resize(x, input_size)\n",
    "    x = x / 255.\n",
    "    return x, x"
   ]
  },
  {
   "cell_type": "code",
   "execution_count": 21,
   "metadata": {},
   "outputs": [],
   "source": [
    "dataset = 'fashion_mnist'     # 'cifar10', 'fashion_mnist', 'mnist'\n",
    "log_dirs = 'logs/fashion_mnist'\n",
    "batch_size = 16\n",
    "latent_dim = 2\n",
    "input_shape = (28, 28, 1)"
   ]
  },
  {
   "cell_type": "code",
   "execution_count": 22,
   "metadata": {},
   "outputs": [
    {
     "name": "stdout",
     "output_type": "stream",
     "text": [
      "\u001b[1mDownloading and preparing dataset Unknown size (download: Unknown size, generated: Unknown size, total: Unknown size) to ~\\tensorflow_datasets\\fashion_mnist\\3.0.1...\u001b[0m\n"
     ]
    },
    {
     "data": {
      "application/vnd.jupyter.widget-view+json": {
       "model_id": "b953575cacfd4e8cb466cd04b0f033d5",
       "version_major": 2,
       "version_minor": 0
      },
      "text/plain": [
       "Dl Completed...: 0 url [00:00, ? url/s]"
      ]
     },
     "metadata": {},
     "output_type": "display_data"
    },
    {
     "data": {
      "application/vnd.jupyter.widget-view+json": {
       "model_id": "9653b18ede664c1894cfc5d8c3dc7a50",
       "version_major": 2,
       "version_minor": 0
      },
      "text/plain": [
       "Dl Size...: 0 MiB [00:00, ? MiB/s]"
      ]
     },
     "metadata": {},
     "output_type": "display_data"
    },
    {
     "data": {
      "application/vnd.jupyter.widget-view+json": {
       "model_id": "bf3cfa05221b4a0da66d5960c815dd48",
       "version_major": 2,
       "version_minor": 0
      },
      "text/plain": [
       "Extraction completed...: 0 file [00:00, ? file/s]"
      ]
     },
     "metadata": {},
     "output_type": "display_data"
    },
    {
     "data": {
      "application/vnd.jupyter.widget-view+json": {
       "model_id": "016a4fb17af84a8e9676824ad9ff9a82",
       "version_major": 2,
       "version_minor": 0
      },
      "text/plain": [
       "Generating splits...:   0%|          | 0/2 [00:00<?, ? splits/s]"
      ]
     },
     "metadata": {},
     "output_type": "display_data"
    },
    {
     "data": {
      "application/vnd.jupyter.widget-view+json": {
       "model_id": "a67eecc240964f219ccefb97085aefa3",
       "version_major": 2,
       "version_minor": 0
      },
      "text/plain": [
       "Generating train examples...: 0 examples [00:00, ? examples/s]"
      ]
     },
     "metadata": {},
     "output_type": "display_data"
    },
    {
     "data": {
      "application/vnd.jupyter.widget-view+json": {
       "model_id": "930839dafe024be1bef66dc83ec544d2",
       "version_major": 2,
       "version_minor": 0
      },
      "text/plain": [
       "Shuffling ~\\tensorflow_datasets\\fashion_mnist\\3.0.1.incompleteS5MNWG\\fashion_mnist-train.tfrecord*...:   0%|  …"
      ]
     },
     "metadata": {},
     "output_type": "display_data"
    },
    {
     "data": {
      "application/vnd.jupyter.widget-view+json": {
       "model_id": "93a6dcf5494d4cf9ba4d3fa9d101bdc2",
       "version_major": 2,
       "version_minor": 0
      },
      "text/plain": [
       "Generating test examples...: 0 examples [00:00, ? examples/s]"
      ]
     },
     "metadata": {},
     "output_type": "display_data"
    },
    {
     "data": {
      "application/vnd.jupyter.widget-view+json": {
       "model_id": "7830838abfe84c44a73f325da85c4041",
       "version_major": 2,
       "version_minor": 0
      },
      "text/plain": [
       "Shuffling ~\\tensorflow_datasets\\fashion_mnist\\3.0.1.incompleteS5MNWG\\fashion_mnist-test.tfrecord*...:   0%|   …"
      ]
     },
     "metadata": {},
     "output_type": "display_data"
    },
    {
     "name": "stdout",
     "output_type": "stream",
     "text": [
      "\u001b[1mDataset fashion_mnist downloaded and prepared to ~\\tensorflow_datasets\\fashion_mnist\\3.0.1. Subsequent calls will reuse this data.\u001b[0m\n"
     ]
    }
   ],
   "source": [
    "# Load datasets\n",
    "train_data = tfds.load(dataset, split=tfds.Split.TRAIN)\n",
    "test_data = tfds.load(dataset, split=tfds.Split.TEST)"
   ]
  },
  {
   "cell_type": "code",
   "execution_count": 23,
   "metadata": {},
   "outputs": [],
   "source": [
    "# Setting datasets\n",
    "AUTOTUNE = tf.data.experimental.AUTOTUNE  # 自動調整模式\n",
    "train_data = train_data.shuffle(1000)\n",
    "train_data = train_data.map(parse_fn, num_parallel_calls=AUTOTUNE)\n",
    "train_data = train_data.batch(batch_size)\n",
    "train_data = train_data.prefetch(buffer_size=AUTOTUNE)\n",
    "test_data = test_data.map(parse_fn, num_parallel_calls=AUTOTUNE)\n",
    "test_data = test_data.batch(batch_size)\n",
    "test_data = test_data.prefetch(buffer_size=AUTOTUNE)"
   ]
  },
  {
   "cell_type": "code",
   "execution_count": 24,
   "metadata": {},
   "outputs": [],
   "source": [
    "# Callbacks function\n",
    "model_dir = log_dirs + '/models'\n",
    "os.makedirs(model_dir, exist_ok=True)\n",
    "model_tb = keras.callbacks.TensorBoard(log_dir=log_dirs)\n",
    "model_sdw = SaveDecoderModel(model_dir + '/best_model.h5', monitor='val_loss')\n",
    "model_testd = SaveDecoderOutput(28, log_dir=log_dirs)"
   ]
  },
  {
   "cell_type": "code",
   "execution_count": 25,
   "metadata": {},
   "outputs": [
    {
     "name": "stdout",
     "output_type": "stream",
     "text": [
      "Model: \"encoder\"\n",
      "__________________________________________________________________________________________________\n",
      "Layer (type)                    Output Shape         Param #     Connected to                     \n",
      "==================================================================================================\n",
      "input_3 (InputLayer)            [(None, 28, 28, 1)]  0                                            \n",
      "__________________________________________________________________________________________________\n",
      "conv2d_5 (Conv2D)               (None, 28, 28, 32)   320         input_3[0][0]                    \n",
      "__________________________________________________________________________________________________\n",
      "conv2d_6 (Conv2D)               (None, 14, 14, 64)   18496       conv2d_5[0][0]                   \n",
      "__________________________________________________________________________________________________\n",
      "conv2d_7 (Conv2D)               (None, 7, 7, 64)     36928       conv2d_6[0][0]                   \n",
      "__________________________________________________________________________________________________\n",
      "conv2d_8 (Conv2D)               (None, 7, 7, 64)     36928       conv2d_7[0][0]                   \n",
      "__________________________________________________________________________________________________\n",
      "flatten_1 (Flatten)             (None, 3136)         0           conv2d_8[0][0]                   \n",
      "__________________________________________________________________________________________________\n",
      "dense_4 (Dense)                 (None, 32)           100384      flatten_1[0][0]                  \n",
      "__________________________________________________________________________________________________\n",
      "dense_5 (Dense)                 (None, 2)            66          dense_4[0][0]                    \n",
      "__________________________________________________________________________________________________\n",
      "dense_6 (Dense)                 (None, 2)            66          dense_4[0][0]                    \n",
      "__________________________________________________________________________________________________\n",
      "sampling_1 (Sampling)           (None, 2)            0           dense_5[0][0]                    \n",
      "                                                                 dense_6[0][0]                    \n",
      "==================================================================================================\n",
      "Total params: 193,188\n",
      "Trainable params: 193,188\n",
      "Non-trainable params: 0\n",
      "__________________________________________________________________________________________________\n",
      "Model: \"decoder\"\n",
      "_________________________________________________________________\n",
      "Layer (type)                 Output Shape              Param #   \n",
      "=================================================================\n",
      "input_4 (InputLayer)         [(None, 2)]               0         \n",
      "_________________________________________________________________\n",
      "dense_7 (Dense)              (None, 3136)              9408      \n",
      "_________________________________________________________________\n",
      "reshape_1 (Reshape)          (None, 7, 7, 64)          0         \n",
      "_________________________________________________________________\n",
      "conv2d_transpose_2 (Conv2DTr (None, 14, 14, 64)        36928     \n",
      "_________________________________________________________________\n",
      "conv2d_transpose_3 (Conv2DTr (None, 28, 28, 64)        36928     \n",
      "_________________________________________________________________\n",
      "conv2d_9 (Conv2D)            (None, 28, 28, 1)         577       \n",
      "=================================================================\n",
      "Total params: 83,841\n",
      "Trainable params: 83,841\n",
      "Non-trainable params: 0\n",
      "_________________________________________________________________\n"
     ]
    }
   ],
   "source": [
    "# create vae model\n",
    "vae_model = create_vae_model(input_shape, latent_dim)"
   ]
  },
  {
   "cell_type": "code",
   "execution_count": 26,
   "metadata": {},
   "outputs": [
    {
     "name": "stdout",
     "output_type": "stream",
     "text": [
      "Epoch 1/100\n",
      "   3/3750 [..............................] - ETA: 3:24 - loss: 731.3918   WARNING:tensorflow:Callback method `on_train_batch_end` is slow compared to the batch time (batch time: 0.0105s vs `on_train_batch_end` time: 0.0147s). Check your callbacks.\n"
     ]
    },
    {
     "name": "stderr",
     "output_type": "stream",
     "text": [
      "WARNING:tensorflow:Callback method `on_train_batch_end` is slow compared to the batch time (batch time: 0.0105s vs `on_train_batch_end` time: 0.0147s). Check your callbacks.\n"
     ]
    },
    {
     "name": "stdout",
     "output_type": "stream",
     "text": [
      "3750/3750 [==============================] - 48s 12ms/step - loss: 279.2534 - val_loss: 263.9344\n",
      "WARNING:tensorflow:Compiled the loaded model, but the compiled metrics have yet to be built. `model.compile_metrics` will be empty until you train or evaluate the model.\n"
     ]
    },
    {
     "name": "stderr",
     "output_type": "stream",
     "text": [
      "WARNING:tensorflow:Compiled the loaded model, but the compiled metrics have yet to be built. `model.compile_metrics` will be empty until you train or evaluate the model.\n"
     ]
    },
    {
     "name": "stdout",
     "output_type": "stream",
     "text": [
      "Epoch 2/100\n",
      "3750/3750 [==============================] - 41s 11ms/step - loss: 261.6925 - val_loss: 261.2047\n",
      "WARNING:tensorflow:Compiled the loaded model, but the compiled metrics have yet to be built. `model.compile_metrics` will be empty until you train or evaluate the model.\n"
     ]
    },
    {
     "name": "stderr",
     "output_type": "stream",
     "text": [
      "WARNING:tensorflow:Compiled the loaded model, but the compiled metrics have yet to be built. `model.compile_metrics` will be empty until you train or evaluate the model.\n"
     ]
    },
    {
     "name": "stdout",
     "output_type": "stream",
     "text": [
      "Epoch 3/100\n",
      "3750/3750 [==============================] - 39s 10ms/step - loss: 258.7360 - val_loss: 259.2366\n",
      "WARNING:tensorflow:Compiled the loaded model, but the compiled metrics have yet to be built. `model.compile_metrics` will be empty until you train or evaluate the model.\n"
     ]
    },
    {
     "name": "stderr",
     "output_type": "stream",
     "text": [
      "WARNING:tensorflow:Compiled the loaded model, but the compiled metrics have yet to be built. `model.compile_metrics` will be empty until you train or evaluate the model.\n"
     ]
    },
    {
     "name": "stdout",
     "output_type": "stream",
     "text": [
      "Epoch 4/100\n",
      "3750/3750 [==============================] - 38s 10ms/step - loss: 257.4207 - val_loss: 258.6277\n",
      "WARNING:tensorflow:Compiled the loaded model, but the compiled metrics have yet to be built. `model.compile_metrics` will be empty until you train or evaluate the model.\n"
     ]
    },
    {
     "name": "stderr",
     "output_type": "stream",
     "text": [
      "WARNING:tensorflow:Compiled the loaded model, but the compiled metrics have yet to be built. `model.compile_metrics` will be empty until you train or evaluate the model.\n"
     ]
    },
    {
     "name": "stdout",
     "output_type": "stream",
     "text": [
      "Epoch 5/100\n",
      "3750/3750 [==============================] - 38s 10ms/step - loss: 256.3991 - val_loss: 258.9635\n",
      "Epoch 6/100\n",
      "3750/3750 [==============================] - 38s 10ms/step - loss: 255.7762 - val_loss: 256.9036\n",
      "WARNING:tensorflow:Compiled the loaded model, but the compiled metrics have yet to be built. `model.compile_metrics` will be empty until you train or evaluate the model.\n"
     ]
    },
    {
     "name": "stderr",
     "output_type": "stream",
     "text": [
      "WARNING:tensorflow:Compiled the loaded model, but the compiled metrics have yet to be built. `model.compile_metrics` will be empty until you train or evaluate the model.\n"
     ]
    },
    {
     "name": "stdout",
     "output_type": "stream",
     "text": [
      "Epoch 7/100\n",
      "3750/3750 [==============================] - 38s 10ms/step - loss: 255.1967 - val_loss: 256.3309\n",
      "WARNING:tensorflow:Compiled the loaded model, but the compiled metrics have yet to be built. `model.compile_metrics` will be empty until you train or evaluate the model.\n"
     ]
    },
    {
     "name": "stderr",
     "output_type": "stream",
     "text": [
      "WARNING:tensorflow:Compiled the loaded model, but the compiled metrics have yet to be built. `model.compile_metrics` will be empty until you train or evaluate the model.\n"
     ]
    },
    {
     "name": "stdout",
     "output_type": "stream",
     "text": [
      "Epoch 8/100\n",
      "3750/3750 [==============================] - 38s 10ms/step - loss: 254.5510 - val_loss: 257.3460\n",
      "Epoch 9/100\n",
      "3750/3750 [==============================] - 38s 10ms/step - loss: 254.2143 - val_loss: 255.0125\n",
      "WARNING:tensorflow:Compiled the loaded model, but the compiled metrics have yet to be built. `model.compile_metrics` will be empty until you train or evaluate the model.\n"
     ]
    },
    {
     "name": "stderr",
     "output_type": "stream",
     "text": [
      "WARNING:tensorflow:Compiled the loaded model, but the compiled metrics have yet to be built. `model.compile_metrics` will be empty until you train or evaluate the model.\n"
     ]
    },
    {
     "name": "stdout",
     "output_type": "stream",
     "text": [
      "Epoch 10/100\n",
      "3750/3750 [==============================] - 37s 10ms/step - loss: 253.8386 - val_loss: 254.9387\n",
      "WARNING:tensorflow:Compiled the loaded model, but the compiled metrics have yet to be built. `model.compile_metrics` will be empty until you train or evaluate the model.\n"
     ]
    },
    {
     "name": "stderr",
     "output_type": "stream",
     "text": [
      "WARNING:tensorflow:Compiled the loaded model, but the compiled metrics have yet to be built. `model.compile_metrics` will be empty until you train or evaluate the model.\n"
     ]
    },
    {
     "name": "stdout",
     "output_type": "stream",
     "text": [
      "Epoch 11/100\n",
      "3750/3750 [==============================] - 38s 10ms/step - loss: 253.5768 - val_loss: 255.0444\n",
      "Epoch 12/100\n",
      "3750/3750 [==============================] - 38s 10ms/step - loss: 253.2662 - val_loss: 254.8098\n",
      "WARNING:tensorflow:Compiled the loaded model, but the compiled metrics have yet to be built. `model.compile_metrics` will be empty until you train or evaluate the model.\n"
     ]
    },
    {
     "name": "stderr",
     "output_type": "stream",
     "text": [
      "WARNING:tensorflow:Compiled the loaded model, but the compiled metrics have yet to be built. `model.compile_metrics` will be empty until you train or evaluate the model.\n"
     ]
    },
    {
     "name": "stdout",
     "output_type": "stream",
     "text": [
      "Epoch 13/100\n",
      "3750/3750 [==============================] - 37s 10ms/step - loss: 252.9528 - val_loss: 254.7907\n",
      "WARNING:tensorflow:Compiled the loaded model, but the compiled metrics have yet to be built. `model.compile_metrics` will be empty until you train or evaluate the model.\n"
     ]
    },
    {
     "name": "stderr",
     "output_type": "stream",
     "text": [
      "WARNING:tensorflow:Compiled the loaded model, but the compiled metrics have yet to be built. `model.compile_metrics` will be empty until you train or evaluate the model.\n"
     ]
    },
    {
     "name": "stdout",
     "output_type": "stream",
     "text": [
      "Epoch 14/100\n",
      "3750/3750 [==============================] - 37s 10ms/step - loss: 252.7586 - val_loss: 256.5344\n",
      "Epoch 15/100\n",
      "3750/3750 [==============================] - 37s 10ms/step - loss: 252.5066 - val_loss: 254.0613\n",
      "WARNING:tensorflow:Compiled the loaded model, but the compiled metrics have yet to be built. `model.compile_metrics` will be empty until you train or evaluate the model.\n"
     ]
    },
    {
     "name": "stderr",
     "output_type": "stream",
     "text": [
      "WARNING:tensorflow:Compiled the loaded model, but the compiled metrics have yet to be built. `model.compile_metrics` will be empty until you train or evaluate the model.\n"
     ]
    },
    {
     "name": "stdout",
     "output_type": "stream",
     "text": [
      "Epoch 16/100\n",
      "3750/3750 [==============================] - 38s 10ms/step - loss: 252.3997 - val_loss: 254.0914\n",
      "Epoch 17/100\n",
      "3750/3750 [==============================] - 38s 10ms/step - loss: 252.2843 - val_loss: 253.7552\n",
      "WARNING:tensorflow:Compiled the loaded model, but the compiled metrics have yet to be built. `model.compile_metrics` will be empty until you train or evaluate the model.\n"
     ]
    },
    {
     "name": "stderr",
     "output_type": "stream",
     "text": [
      "WARNING:tensorflow:Compiled the loaded model, but the compiled metrics have yet to be built. `model.compile_metrics` will be empty until you train or evaluate the model.\n"
     ]
    },
    {
     "name": "stdout",
     "output_type": "stream",
     "text": [
      "Epoch 18/100\n",
      "3750/3750 [==============================] - 37s 10ms/step - loss: 252.1996 - val_loss: 255.0318\n",
      "Epoch 19/100\n",
      "3750/3750 [==============================] - 38s 10ms/step - loss: 252.0342 - val_loss: 253.9340\n",
      "Epoch 20/100\n",
      "3750/3750 [==============================] - 37s 10ms/step - loss: 252.0249 - val_loss: 254.9252\n",
      "Epoch 21/100\n",
      "3750/3750 [==============================] - 38s 10ms/step - loss: 251.8126 - val_loss: 254.8687\n",
      "Epoch 22/100\n",
      "3750/3750 [==============================] - 37s 10ms/step - loss: 251.7003 - val_loss: 254.3226\n",
      "Epoch 23/100\n",
      "3750/3750 [==============================] - 38s 10ms/step - loss: 251.5047 - val_loss: 254.5619\n",
      "Epoch 24/100\n",
      "3750/3750 [==============================] - 37s 10ms/step - loss: 251.4677 - val_loss: 254.2838\n",
      "Epoch 25/100\n",
      "3750/3750 [==============================] - 38s 10ms/step - loss: 251.4746 - val_loss: 253.7543\n",
      "WARNING:tensorflow:Compiled the loaded model, but the compiled metrics have yet to be built. `model.compile_metrics` will be empty until you train or evaluate the model.\n"
     ]
    },
    {
     "name": "stderr",
     "output_type": "stream",
     "text": [
      "WARNING:tensorflow:Compiled the loaded model, but the compiled metrics have yet to be built. `model.compile_metrics` will be empty until you train or evaluate the model.\n"
     ]
    },
    {
     "name": "stdout",
     "output_type": "stream",
     "text": [
      "Epoch 26/100\n",
      "3750/3750 [==============================] - 37s 10ms/step - loss: 251.3113 - val_loss: 253.4261\n",
      "WARNING:tensorflow:Compiled the loaded model, but the compiled metrics have yet to be built. `model.compile_metrics` will be empty until you train or evaluate the model.\n"
     ]
    },
    {
     "name": "stderr",
     "output_type": "stream",
     "text": [
      "WARNING:tensorflow:Compiled the loaded model, but the compiled metrics have yet to be built. `model.compile_metrics` will be empty until you train or evaluate the model.\n"
     ]
    },
    {
     "name": "stdout",
     "output_type": "stream",
     "text": [
      "Epoch 27/100\n",
      "3750/3750 [==============================] - 37s 10ms/step - loss: 251.1732 - val_loss: 253.6259\n",
      "Epoch 28/100\n",
      "3750/3750 [==============================] - 38s 10ms/step - loss: 251.0990 - val_loss: 255.9357\n",
      "Epoch 29/100\n",
      "3750/3750 [==============================] - 38s 10ms/step - loss: 251.0590 - val_loss: 253.5674\n",
      "Epoch 30/100\n",
      "3750/3750 [==============================] - 38s 10ms/step - loss: 251.0923 - val_loss: 253.8847\n",
      "Epoch 31/100\n",
      "3750/3750 [==============================] - 38s 10ms/step - loss: 250.9705 - val_loss: 254.7415\n",
      "Epoch 32/100\n",
      "3750/3750 [==============================] - 38s 10ms/step - loss: 250.8568 - val_loss: 254.0936\n",
      "Epoch 33/100\n",
      "3750/3750 [==============================] - 38s 10ms/step - loss: 250.8707 - val_loss: 253.3555\n",
      "WARNING:tensorflow:Compiled the loaded model, but the compiled metrics have yet to be built. `model.compile_metrics` will be empty until you train or evaluate the model.\n"
     ]
    },
    {
     "name": "stderr",
     "output_type": "stream",
     "text": [
      "WARNING:tensorflow:Compiled the loaded model, but the compiled metrics have yet to be built. `model.compile_metrics` will be empty until you train or evaluate the model.\n"
     ]
    },
    {
     "name": "stdout",
     "output_type": "stream",
     "text": [
      "Epoch 34/100\n",
      "3750/3750 [==============================] - 38s 10ms/step - loss: 250.7967 - val_loss: 253.3029\n",
      "WARNING:tensorflow:Compiled the loaded model, but the compiled metrics have yet to be built. `model.compile_metrics` will be empty until you train or evaluate the model.\n"
     ]
    },
    {
     "name": "stderr",
     "output_type": "stream",
     "text": [
      "WARNING:tensorflow:Compiled the loaded model, but the compiled metrics have yet to be built. `model.compile_metrics` will be empty until you train or evaluate the model.\n"
     ]
    },
    {
     "name": "stdout",
     "output_type": "stream",
     "text": [
      "Epoch 35/100\n",
      "3750/3750 [==============================] - 38s 10ms/step - loss: 250.7414 - val_loss: 253.2397\n",
      "WARNING:tensorflow:Compiled the loaded model, but the compiled metrics have yet to be built. `model.compile_metrics` will be empty until you train or evaluate the model.\n"
     ]
    },
    {
     "name": "stderr",
     "output_type": "stream",
     "text": [
      "WARNING:tensorflow:Compiled the loaded model, but the compiled metrics have yet to be built. `model.compile_metrics` will be empty until you train or evaluate the model.\n"
     ]
    },
    {
     "name": "stdout",
     "output_type": "stream",
     "text": [
      "Epoch 36/100\n",
      "3750/3750 [==============================] - 38s 10ms/step - loss: 250.6786 - val_loss: 253.2041\n",
      "WARNING:tensorflow:Compiled the loaded model, but the compiled metrics have yet to be built. `model.compile_metrics` will be empty until you train or evaluate the model.\n"
     ]
    },
    {
     "name": "stderr",
     "output_type": "stream",
     "text": [
      "WARNING:tensorflow:Compiled the loaded model, but the compiled metrics have yet to be built. `model.compile_metrics` will be empty until you train or evaluate the model.\n"
     ]
    },
    {
     "name": "stdout",
     "output_type": "stream",
     "text": [
      "Epoch 37/100\n",
      "3750/3750 [==============================] - 38s 10ms/step - loss: 250.5327 - val_loss: 252.9561\n",
      "WARNING:tensorflow:Compiled the loaded model, but the compiled metrics have yet to be built. `model.compile_metrics` will be empty until you train or evaluate the model.\n"
     ]
    },
    {
     "name": "stderr",
     "output_type": "stream",
     "text": [
      "WARNING:tensorflow:Compiled the loaded model, but the compiled metrics have yet to be built. `model.compile_metrics` will be empty until you train or evaluate the model.\n"
     ]
    },
    {
     "name": "stdout",
     "output_type": "stream",
     "text": [
      "Epoch 38/100\n",
      "3750/3750 [==============================] - 38s 10ms/step - loss: 250.5378 - val_loss: 253.6452\n",
      "Epoch 39/100\n",
      "3750/3750 [==============================] - 38s 10ms/step - loss: 250.4943 - val_loss: 254.4371\n",
      "Epoch 40/100\n",
      "3750/3750 [==============================] - 38s 10ms/step - loss: 250.4179 - val_loss: 254.2538\n",
      "Epoch 41/100\n",
      "3750/3750 [==============================] - 38s 10ms/step - loss: 250.3137 - val_loss: 254.1105\n",
      "Epoch 42/100\n",
      "3750/3750 [==============================] - 38s 10ms/step - loss: 250.3222 - val_loss: 252.6876\n",
      "WARNING:tensorflow:Compiled the loaded model, but the compiled metrics have yet to be built. `model.compile_metrics` will be empty until you train or evaluate the model.\n"
     ]
    },
    {
     "name": "stderr",
     "output_type": "stream",
     "text": [
      "WARNING:tensorflow:Compiled the loaded model, but the compiled metrics have yet to be built. `model.compile_metrics` will be empty until you train or evaluate the model.\n"
     ]
    },
    {
     "name": "stdout",
     "output_type": "stream",
     "text": [
      "Epoch 43/100\n",
      "3750/3750 [==============================] - 38s 10ms/step - loss: 250.2821 - val_loss: 253.4486\n",
      "Epoch 44/100\n",
      "3750/3750 [==============================] - 38s 10ms/step - loss: 250.2964 - val_loss: 252.2595\n",
      "WARNING:tensorflow:Compiled the loaded model, but the compiled metrics have yet to be built. `model.compile_metrics` will be empty until you train or evaluate the model.\n"
     ]
    },
    {
     "name": "stderr",
     "output_type": "stream",
     "text": [
      "WARNING:tensorflow:Compiled the loaded model, but the compiled metrics have yet to be built. `model.compile_metrics` will be empty until you train or evaluate the model.\n"
     ]
    },
    {
     "name": "stdout",
     "output_type": "stream",
     "text": [
      "Epoch 45/100\n",
      "3750/3750 [==============================] - 38s 10ms/step - loss: 250.2781 - val_loss: 252.8003\n",
      "Epoch 46/100\n",
      "3750/3750 [==============================] - 38s 10ms/step - loss: 250.1600 - val_loss: 254.5246\n",
      "Epoch 47/100\n",
      "3750/3750 [==============================] - 38s 10ms/step - loss: 250.2063 - val_loss: 253.3371\n",
      "Epoch 48/100\n",
      "3750/3750 [==============================] - 39s 10ms/step - loss: 250.0836 - val_loss: 252.6102\n",
      "Epoch 49/100\n",
      "3750/3750 [==============================] - 38s 10ms/step - loss: 250.1071 - val_loss: 252.5626\n",
      "Epoch 50/100\n",
      "3750/3750 [==============================] - 38s 10ms/step - loss: 250.0383 - val_loss: 252.6380\n",
      "Epoch 51/100\n",
      "3750/3750 [==============================] - 38s 10ms/step - loss: 250.0123 - val_loss: 253.4164\n",
      "Epoch 52/100\n",
      "3750/3750 [==============================] - 38s 10ms/step - loss: 250.0518 - val_loss: 254.3592\n",
      "Epoch 53/100\n",
      "3750/3750 [==============================] - 38s 10ms/step - loss: 249.9666 - val_loss: 252.9971\n",
      "Epoch 54/100\n",
      "3750/3750 [==============================] - 39s 10ms/step - loss: 250.0034 - val_loss: 253.0096\n",
      "Epoch 55/100\n",
      "3750/3750 [==============================] - 39s 10ms/step - loss: 250.0294 - val_loss: 253.5179\n",
      "Epoch 56/100\n",
      "3750/3750 [==============================] - 38s 10ms/step - loss: 249.9682 - val_loss: 252.9325\n",
      "Epoch 57/100\n",
      "3750/3750 [==============================] - 39s 10ms/step - loss: 249.9155 - val_loss: 252.4315\n",
      "Epoch 58/100\n",
      "3750/3750 [==============================] - 38s 10ms/step - loss: 249.8803 - val_loss: 254.2515\n",
      "Epoch 59/100\n",
      "3750/3750 [==============================] - 38s 10ms/step - loss: 249.8194 - val_loss: 253.9868\n",
      "Epoch 60/100\n",
      "3750/3750 [==============================] - 39s 10ms/step - loss: 249.9002 - val_loss: 252.4067\n",
      "Epoch 61/100\n",
      "3750/3750 [==============================] - 38s 10ms/step - loss: 249.8707 - val_loss: 252.5484\n",
      "Epoch 62/100\n",
      "3750/3750 [==============================] - 38s 10ms/step - loss: 249.8660 - val_loss: 253.4882\n",
      "Epoch 63/100\n",
      "3750/3750 [==============================] - 39s 10ms/step - loss: 249.8689 - val_loss: 252.4106\n",
      "Epoch 64/100\n",
      "3750/3750 [==============================] - 38s 10ms/step - loss: 249.8014 - val_loss: 252.6988\n",
      "Epoch 65/100\n",
      "3750/3750 [==============================] - 39s 10ms/step - loss: 249.8481 - val_loss: 252.7845\n",
      "Epoch 66/100\n",
      "3750/3750 [==============================] - 39s 10ms/step - loss: 249.8511 - val_loss: 252.5949\n",
      "Epoch 67/100\n",
      "3750/3750 [==============================] - 39s 10ms/step - loss: 249.8529 - val_loss: 252.8547\n",
      "Epoch 68/100\n",
      "3750/3750 [==============================] - 39s 10ms/step - loss: 249.7881 - val_loss: 252.1758\n",
      "WARNING:tensorflow:Compiled the loaded model, but the compiled metrics have yet to be built. `model.compile_metrics` will be empty until you train or evaluate the model.\n"
     ]
    },
    {
     "name": "stderr",
     "output_type": "stream",
     "text": [
      "WARNING:tensorflow:Compiled the loaded model, but the compiled metrics have yet to be built. `model.compile_metrics` will be empty until you train or evaluate the model.\n"
     ]
    },
    {
     "name": "stdout",
     "output_type": "stream",
     "text": [
      "Epoch 69/100\n",
      "3750/3750 [==============================] - 39s 10ms/step - loss: 249.7007 - val_loss: 253.3717\n",
      "Epoch 70/100\n",
      "3750/3750 [==============================] - 38s 10ms/step - loss: 249.7237 - val_loss: 252.7285\n",
      "Epoch 71/100\n",
      "3750/3750 [==============================] - 39s 10ms/step - loss: 249.6452 - val_loss: 251.9875\n",
      "WARNING:tensorflow:Compiled the loaded model, but the compiled metrics have yet to be built. `model.compile_metrics` will be empty until you train or evaluate the model.\n"
     ]
    },
    {
     "name": "stderr",
     "output_type": "stream",
     "text": [
      "WARNING:tensorflow:Compiled the loaded model, but the compiled metrics have yet to be built. `model.compile_metrics` will be empty until you train or evaluate the model.\n"
     ]
    },
    {
     "name": "stdout",
     "output_type": "stream",
     "text": [
      "Epoch 72/100\n",
      "3750/3750 [==============================] - 38s 10ms/step - loss: 249.8496 - val_loss: 254.1579\n",
      "Epoch 73/100\n",
      "3750/3750 [==============================] - 39s 10ms/step - loss: 249.6961 - val_loss: 252.6851\n",
      "Epoch 74/100\n",
      "3750/3750 [==============================] - 39s 10ms/step - loss: 249.7754 - val_loss: 252.3361\n",
      "Epoch 75/100\n",
      "3750/3750 [==============================] - 38s 10ms/step - loss: 249.6754 - val_loss: 253.6768\n",
      "Epoch 76/100\n",
      "3750/3750 [==============================] - 43s 11ms/step - loss: 249.6519 - val_loss: 252.4980\n",
      "Epoch 77/100\n",
      "3750/3750 [==============================] - 41s 11ms/step - loss: 249.7128 - val_loss: 252.2873\n",
      "Epoch 78/100\n",
      "3750/3750 [==============================] - 41s 11ms/step - loss: 249.6005 - val_loss: 253.1813\n",
      "Epoch 79/100\n",
      "3750/3750 [==============================] - 43s 11ms/step - loss: 249.6343 - val_loss: 252.5701\n",
      "Epoch 80/100\n",
      "3750/3750 [==============================] - 39s 11ms/step - loss: 249.5785 - val_loss: 253.1637\n",
      "Epoch 81/100\n",
      "3750/3750 [==============================] - 38s 10ms/step - loss: 249.5894 - val_loss: 252.9692\n",
      "Epoch 82/100\n",
      "3750/3750 [==============================] - 38s 10ms/step - loss: 249.4942 - val_loss: 253.0313\n",
      "Epoch 83/100\n",
      "3750/3750 [==============================] - 38s 10ms/step - loss: 249.6211 - val_loss: 253.1156\n",
      "Epoch 84/100\n",
      "3750/3750 [==============================] - 38s 10ms/step - loss: 249.6396 - val_loss: 253.9022\n",
      "Epoch 85/100\n",
      "3750/3750 [==============================] - 38s 10ms/step - loss: 249.6501 - val_loss: 252.8075\n",
      "Epoch 86/100\n",
      "3750/3750 [==============================] - 38s 10ms/step - loss: 249.6164 - val_loss: 252.6885\n",
      "Epoch 87/100\n",
      "3749/3750 [============================>.] - ETA: 0s - loss: 249.4699"
     ]
    }
   ],
   "source": [
    "# training\n",
    "optimizer = tf.keras.optimizers.RMSprop()\n",
    "vae_model.compile(optimizer, loss=reconstruction_loss)\n",
    "vae_model.fit(train_data, epochs=100, validation_data=test_data, callbacks=[model_tb, model_sdw, model_testd])"
   ]
  }
 ],
 "metadata": {
  "kernelspec": {
   "display_name": "Python 3.9.12 ('tf26')",
   "language": "python",
   "name": "python3"
  },
  "language_info": {
   "codemirror_mode": {
    "name": "ipython",
    "version": 3
   },
   "file_extension": ".py",
   "mimetype": "text/x-python",
   "name": "python",
   "nbconvert_exporter": "python",
   "pygments_lexer": "ipython3",
   "version": "3.9.12"
  },
  "orig_nbformat": 4,
  "vscode": {
   "interpreter": {
    "hash": "5a1af232b417dd52ac5e484eceb9b15881c591b30356e01b51a9e4e51b5e3b8d"
   }
  }
 },
 "nbformat": 4,
 "nbformat_minor": 2
}
